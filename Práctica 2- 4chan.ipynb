{
 "cells": [
  {
   "cell_type": "markdown",
   "metadata": {},
   "source": [
    "# API REST de 4chan - JSON \n",
    "https://github.com/4chan/4chan-API\n",
    "\n",
    "## Obtener una muestra de dos boards de 4chan, sacando una instantánea concreta (todas las páginas de cada board).\n",
    "\n",
    "Obtener solo la información para proceder en los dos puntos siguientes: \n",
    "- contraste de diferencia de medias en la media de respuestas por posts en cada board \n",
    "- obtención la distribución del tamaño de las imágenes."
   ]
  },
  {
   "cell_type": "markdown",
   "metadata": {},
   "source": [
    "Procedimiento:\n",
    "- importar librerías\n",
    "- selección de dos boards y descripción del JSON\n",
    "- construcción del dataframe: \n",
    "- realización de cálculos:  \n",
    "    i) contraste de diferencia de medias de respuestas por posts en cada board\n",
    "    ii) obtención de la distribución del tamaño de las imágenes"
   ]
  },
  {
   "cell_type": "code",
   "execution_count": 4,
   "metadata": {
    "collapsed": false
   },
   "outputs": [],
   "source": [
    "import requests as rq \n",
    "import json\n",
    "import pandas as pd\n",
    "from scipy import stats "
   ]
  },
  {
   "cell_type": "markdown",
   "metadata": {},
   "source": [
    "## Comprender el json\n",
    "\n",
    "Where are the files?\n",
    "\n",
    "Boards: http(s)://boards.4chan.org/board/\n",
    "\n",
    "Indexes: http(s)://boards.4chan.org/board/[2-10] (# of pages varies per board, omit number for directory root)\n",
    "\n",
    "Threads: http(s)://boards.4chan.org/board/thread/resto\n",
    "\n",
    "Replies: http(s)://boards.4chan.org/board/thread/resto#pno\n",
    "\n",
    "Images: http(s)://i.4cdn.org/board/tim.ext\n",
    "\n",
    "El json que devuelve la api: https://github.com/4chan/4chan-API contiene una clave 'boards' que es una lista de diccionarios. Cada uno de estos diccionarios corresponde a una board; tiene conjuntos de clave:valor, entre los que están el \"identificador\" del 'board:', el número de páginas del board 'pages':  ,entre otros.\n",
    "\n",
    "{\"boards\":[{\"board\":\"3\",\"title\":\"3DCG\",\"ws_board\":1,\"per_page\":15,\"pages\":10,\"max_filesize\":4194304,\"max_webm_filesize\":3145728,\"max_comment_chars\":2000,\"max_webm_duration\":120,\"bump_limit\":310,\"image_limit\":150,\"cooldowns\":{\"threads\":600,\"replies\":60,\"images\":60} .....\n",
    "\n",
    "El json que devuelven los boards que seleccionaré (o cualquier otro board) para el análisis -'Cute/Male' y 'Handsome Male' (http://a.4cdn.org/cm/1.json y http://a.4cdn.org/hm/1.json)- son diccionarios. \n",
    "Hay una única clave ‘threads’ que es una lista de diccionarios. Estos diccionarios tienen una clave 'posts' que es una lista de diccionarios:\n",
    "En este nivel, hay claves:valor que recogen el número del post 'no:', el número de respuestas‘replies:’ y el tamaño de las imágenes ‘fsize:’. \n",
    "\n",
    "{\"threads\"\n",
    ":[{\"posts\":[{\"no\":3035586,\"now\":\"06\\/13\\/16(Mon)21:43:39\",\"name\":\"Anonymous\",\"sub\":\"Harry Potter\",\"com\":\"<span class=\\\"quote\\\">&gt;wolfstar is still not canon<\\/span><br><span class=\\\"quote\\\">&gt;Voldemort having an emo daughter with scene kid hair is<\\/span>\",\"filename\":\"image\",\"ext\":\".jpg\",\"w\":567,\"h\":622,\"tn_w\":227,\"tn_h\":250,\"tim\":1465868619589,\"time\":1465868619,\"md5\":\"N+H9bgvuMyKWS2g2OJZobw==\",\"fsize\":106118,\"resto\":0,\"bumplimit\":0,\"imagelimit\":0,\"semantic_url\":\"harry-potter\",\"replies\":125,\"images\":113,\"omitted_posts\":120,\"omitted_images\":110}\n",
    "\n",
    "Estos tres valores son los que se irán incoporando como filas al data frame: el número de post para indexar, y replies y fsize como columnas sobre las que se realizarán los cálculos solicitados."
   ]
  },
  {
   "cell_type": "code",
   "execution_count": 5,
   "metadata": {
    "collapsed": true
   },
   "outputs": [],
   "source": [
    "# De abajo a arriba para la construcción del dataframe: \n",
    "# Primero el diseño a partir del post, con selección del elemento que indexa 'no', junto a 'las variables a incorporar: 'fsize' y 'replies'\n",
    "def adding_row(df, post): \n",
    "    fsize = post[\"fsize\"] # Atributo adicional (only displays when image uploaded)\n",
    "    replies = post[\"replies\"] # Atributo adicional(only displays on OPs -OriginalPoster-)\n",
    "    df.loc[post[\"no\"]] = [fsize, replies] #Atributo del post object (number of post), utilizado como índice "
   ]
  },
  {
   "cell_type": "code",
   "execution_count": 6,
   "metadata": {
    "collapsed": true
   },
   "outputs": [],
   "source": [
    "# Segundo paso: Selección de la información que se incorpora a las filas del dataframe: \n",
    "# posts in threads per page, con información sobre 'fsize' y 'replies' \n",
    "def adding_posts(df,page):\n",
    "    counter = 0\n",
    "    for thread in page['threads']:\n",
    "            for post in thread['posts']:\n",
    "                if ('fsize' in post) and ('replies' in post): # fsize y replies son atributos adicionales\n",
    "                    adding_row(df,post)\n",
    "                    counter  += 1\n",
    "    print(\"Added posts \"+ str(counter)) # Posts añadidos por página"
   ]
  },
  {
   "cell_type": "code",
   "execution_count": 7,
   "metadata": {
    "collapsed": false
   },
   "outputs": [],
   "source": [
    "# Tercer paso: Construcción del dataframe\n",
    "def constructing_dataframe(board_name):\n",
    "    \n",
    "    # Descargar los json de los board seleccionados\n",
    "    req_threads = rq.get('http://a.4cdn.org/'+board_name+'/threads.json')\n",
    "    # Parsear los json \n",
    "    board = json.loads(req_threads.text)\n",
    "    # Imprimir el número de páginas de los board seleccionados\n",
    "    print(\"Pages \"+ str(len(board))) \n",
    "    \n",
    "    post_df = pd.DataFrame(columns=[\"fsize\", \"replies\"])    \n",
    "    \n",
    "    for num in range(1,len(board)):\n",
    "        print(\"Page \" + str(num))\n",
    "        # Descargar los json de cada una de las páginas de los board seleccionados\n",
    "        req_page = rq.get('http://a.4cdn.org/'+board_name+'/'+str(num)+'.json')\n",
    "        # Parsear los json\n",
    "        page = json.loads(req_page.text)\n",
    "        adding_posts(post_df,page)    \n",
    "    return post_df"
   ]
  },
  {
   "cell_type": "code",
   "execution_count": 8,
   "metadata": {
    "collapsed": false
   },
   "outputs": [
    {
     "name": "stdout",
     "output_type": "stream",
     "text": [
      "Cute/Male\n",
      "Pages 10\n",
      "Page 1\n",
      "Added posts 15\n",
      "Page 2\n",
      "Added posts 15\n",
      "Page 3\n",
      "Added posts 15\n",
      "Page 4\n",
      "Added posts 15\n",
      "Page 5\n",
      "Added posts 15\n",
      "Page 6\n",
      "Added posts 15\n",
      "Page 7\n",
      "Added posts 15\n",
      "Page 8\n",
      "Added posts 15\n",
      "Page 9\n",
      "Added posts 15\n",
      "             fsize  replies\n",
      "3059967   868248.0     43.0\n",
      "3059140   104430.0    164.0\n",
      "3038581   383641.0    112.0\n",
      "3055675    79754.0     43.0\n",
      "3039842  1452754.0    164.0\n",
      "3059948    41348.0     75.0\n",
      "3050840   316917.0     75.0\n",
      "3050989   178969.0     57.0\n",
      "3053745   372666.0    119.0\n",
      "3052022    17973.0     33.0\n",
      "Handsome Men\n",
      "Pages 10\n",
      "Page 1\n",
      "Added posts 14\n",
      "Page 2\n",
      "Added posts 15\n",
      "Page 3\n",
      "Added posts 15\n",
      "Page 4\n",
      "Added posts 15\n",
      "Page 5\n",
      "Added posts 15\n",
      "Page 6\n",
      "Added posts 15\n",
      "Page 7\n",
      "Added posts 15\n",
      "Page 8\n",
      "Added posts 15\n",
      "Page 9\n",
      "Added posts 15\n",
      "             fsize  replies\n",
      "1451936   269251.0     14.0\n",
      "1450101  1823780.0     63.0\n",
      "1442555    83402.0    160.0\n",
      "1451706    17229.0     60.0\n",
      "1380076   474945.0    212.0\n",
      "1436152   235804.0    172.0\n",
      "1450959  1405577.0     20.0\n",
      "1448483  1328001.0    133.0\n",
      "1452396    19001.0      4.0\n",
      "1451416   150396.0     15.0\n"
     ]
    }
   ],
   "source": [
    "print('Cute/Male') #Ya puestos, vamos a por Cute/Male, y esperemos que no salga ni D. Trump ni C. Montoro\n",
    "df_cm = constructing_dataframe('cm')\n",
    "print(df_cm.head(10))\n",
    "print('Handsome Men')\n",
    "df_hm = constructing_dataframe('hm')   \n",
    "print(df_hm.head(10))"
   ]
  },
  {
   "cell_type": "code",
   "execution_count": 9,
   "metadata": {
    "collapsed": false
   },
   "outputs": [
    {
     "data": {
      "text/plain": [
       "(135, 2)"
      ]
     },
     "execution_count": 9,
     "metadata": {},
     "output_type": "execute_result"
    }
   ],
   "source": [
    "df_cm.shape"
   ]
  },
  {
   "cell_type": "code",
   "execution_count": 10,
   "metadata": {
    "collapsed": false
   },
   "outputs": [
    {
     "data": {
      "text/plain": [
       "(134, 2)"
      ]
     },
     "execution_count": 10,
     "metadata": {},
     "output_type": "execute_result"
    }
   ],
   "source": [
    "df_hm.shape"
   ]
  },
  {
   "cell_type": "markdown",
   "metadata": {},
   "source": [
    "## Contrastar diferencias en la media de respuestas por post en los dos boards elegidos: Cute/Male y Handsome Male."
   ]
  },
  {
   "cell_type": "markdown",
   "metadata": {},
   "source": [
    "### Se procederá a realizar un análisis gráfico, mediante boxplot, y a continuación un contraste de medias (paramétrico o no paramétrico según proceda).\n",
    "### ¿Existe una diferecia en la media de respuestas de las muestras de Cute/Male y Handsome Male? "
   ]
  },
  {
   "cell_type": "code",
   "execution_count": 11,
   "metadata": {
    "collapsed": false,
    "scrolled": false
   },
   "outputs": [
    {
     "data": {
      "text/plain": [
       "([<matplotlib.axis.XTick at 0x11926c350>,\n",
       "  <matplotlib.axis.XTick at 0x11926c4d0>],\n",
       " <a list of 2 Text xticklabel objects>)"
      ]
     },
     "execution_count": 11,
     "metadata": {},
     "output_type": "execute_result"
    },
    {
     "data": {
      "image/png": "[encoded data removed]",
      "text/plain": [
       "<matplotlib.figure.Figure at 0x1139bbd10>"
      ]
     },
     "metadata": {},
     "output_type": "display_data"
    }
   ],
   "source": [
    "import matplotlib.pyplot as plt\n",
    "%matplotlib inline\n",
    "\n",
    "fig = plt.figure(1, figsize=(20, 10))\n",
    "\n",
    "ax = fig.add_subplot(111)\n",
    "\n",
    "ax.set_ylabel('Replies per post')\n",
    "\n",
    "\n",
    "bp = ax.boxplot([df_cm.replies.tolist(), df_hm.replies.tolist()])\n",
    "plt.xticks([1, 2], ['Cute/Male', 'Handsome Men'])"
   ]
  },
  {
   "cell_type": "markdown",
   "metadata": {},
   "source": [
    "#### Del análisis gráfico se aprecia que el boxplot de la muestra de 'replies' de Cute/male está prácticamente contenido en el de Handsome Men (lógico porque los cutes, incluso en escala de replies, deberían ser una parte de los handsome ;D ). En los dos casos son distribuciones right-skewed; Cute/Male exhibe mayor concentración de observaciones.\n",
    "#### Se  va a proceder a realizar un contraste de igualdad de medias. En primer lugar, se testeará la normalidad. "
   ]
  },
  {
   "cell_type": "code",
   "execution_count": 12,
   "metadata": {
    "collapsed": false
   },
   "outputs": [
    {
     "name": "stdout",
     "output_type": "stream",
     "text": [
      "3.3182328227e-05\n"
     ]
    }
   ],
   "source": [
    "from scipy.stats.mstats import normaltest  \n",
    "_, pval1 = normaltest(df_cm[\"replies\"])\n",
    "print pval1"
   ]
  },
  {
   "cell_type": "code",
   "execution_count": 13,
   "metadata": {
    "collapsed": false
   },
   "outputs": [
    {
     "name": "stdout",
     "output_type": "stream",
     "text": [
      "0.000331152821026\n"
     ]
    }
   ],
   "source": [
    "from scipy.stats.mstats import normaltest  \n",
    "_, pval1 = normaltest(df_hm[\"replies\"])\n",
    "print pval1"
   ]
  },
  {
   "cell_type": "markdown",
   "metadata": {},
   "source": [
    "#### Los valores de los p-values descartan la normalidad de las distribuciones. Por ello, se optará para el contraste de igualdad de medias, por un contraste no paramétrico. Se utilizará el test de Mann-Whitney, que no exige el mismo número de observaciones, aunque sí independencia."
   ]
  },
  {
   "cell_type": "code",
   "execution_count": 14,
   "metadata": {
    "collapsed": false
   },
   "outputs": [
    {
     "data": {
      "text/plain": [
       "MannwhitneyuResult(statistic=7505.5, pvalue=0.0079242924029868725)"
      ]
     },
     "execution_count": 14,
     "metadata": {},
     "output_type": "execute_result"
    }
   ],
   "source": [
    "stats.mannwhitneyu(x=df_hm.replies, y=df_cm.replies, use_continuity=True, alternative=None)"
   ]
  },
  {
   "cell_type": "markdown",
   "metadata": {},
   "source": [
    "#### Dado el valor de p-value obtenido se rechaza la hipótesis nula (H0). Ho: las diferencias observadas entre las medias de replies de las dos muestras  se deben al azar. "
   ]
  },
  {
   "cell_type": "markdown",
   "metadata": {},
   "source": [
    "## Distribución del tamaño de las imágenes en los posts de uno de los boards."
   ]
  },
  {
   "cell_type": "code",
   "execution_count": 17,
   "metadata": {
    "collapsed": false
   },
   "outputs": [
    {
     "data": {
      "text/plain": [
       "<matplotlib.text.Text at 0x11ac25d90>"
      ]
     },
     "execution_count": 17,
     "metadata": {},
     "output_type": "execute_result"
    },
    {
     "data": {
      "image/png": "[encoded data removed]",
      "text/plain": [
       "<matplotlib.figure.Figure at 0x11a6b0650>"
      ]
     },
     "metadata": {},
     "output_type": "display_data"
    }
   ],
   "source": [
    "import matplotlib.pyplot as plt\n",
    "%matplotlib inline\n",
    "\n",
    "plt.figure(1, figsize=(12,5))\n",
    "plt.subplot(121)\n",
    "plt.hist(df_cm.fsize.tolist(), bins=50, color='grey', label='Cute/Male')\n",
    "plt.title(\"Fsize Cute Male\")\n",
    "\n",
    "\n",
    "plt.subplot(122)\n",
    "plt.hist(df_hm.fsize.tolist(), bins=50, color='pink', label='Handsome Men') # Rosa para los handsome\n",
    "plt.title(\"Fsize Handsome Men\")"
   ]
  },
  {
   "cell_type": "markdown",
   "metadata": {},
   "source": [
    "### Test de normalidad de las distribuciones"
   ]
  },
  {
   "cell_type": "code",
   "execution_count": 18,
   "metadata": {
    "collapsed": false
   },
   "outputs": [
    {
     "name": "stdout",
     "output_type": "stream",
     "text": [
      "7.48089715654e-18\n"
     ]
    }
   ],
   "source": [
    "from scipy.stats.mstats import normaltest  \n",
    "_, pval1 = normaltest(df_cm[\"fsize\"])\n",
    "print pval1"
   ]
  },
  {
   "cell_type": "code",
   "execution_count": 19,
   "metadata": {
    "collapsed": false
   },
   "outputs": [
    {
     "name": "stdout",
     "output_type": "stream",
     "text": [
      "2.35588825623e-16\n"
     ]
    }
   ],
   "source": [
    "from scipy.stats.mstats import normaltest  \n",
    "_, pval1 = normaltest(df_hm[\"fsize\"])\n",
    "print pval1"
   ]
  },
  {
   "cell_type": "markdown",
   "metadata": {},
   "source": [
    "Se rechaza la normalidad en los dos casos."
   ]
  }
 ],
 "metadata": {
  "anaconda-cloud": {},
  "kernelspec": {
   "display_name": "Python [default]",
   "language": "python",
   "name": "python2"
  },
  "language_info": {
   "codemirror_mode": {
    "name": "ipython",
    "version": 2
   },
   "file_extension": ".py",
   "mimetype": "text/x-python",
   "name": "python",
   "nbconvert_exporter": "python",
   "pygments_lexer": "ipython2",
   "version": "2.7.12"
  }
 },
 "nbformat": 4,
 "nbformat_minor": 0
}
