{
 "cells": [
  {
   "cell_type": "markdown",
   "metadata": {},
   "source": [
    "# Datos de tráfico del Gobierno de UK, \"Unplanned Events\"\n"
   ]
  },
  {
   "cell_type": "markdown",
   "metadata": {},
   "source": [
    "Se trabajará con los “Unplanned Events” que se proporcionan en un formato XML. Se puede descarga de la URL:\n",
    "http://hatrafficinfo.dft.gov.uk/feeds/datex/England/UnplannedEvent/content.xml\n",
    "\n",
    "Concretamente, contiene un conjunto de situaciones (“situation”) y dentro de la descripción\n",
    "de las situaciones, nos interesa el impacto (“impact”)."
   ]
  },
  {
   "cell_type": "markdown",
   "metadata": {},
   "source": [
    "Procedimiento:\n",
    "- importar librerías \n",
    "- descarga del xml \"Unplanned Events\" de la URL\n",
    "- lectura y parseado del fichero\n",
    "- investigar el impacto de los eventos no planificados en el resto de variables\n",
    "- análisis descriptivo de al menos tres de las variables"
   ]
  },
  {
   "cell_type": "code",
   "execution_count": 25,
   "metadata": {
    "collapsed": false
   },
   "outputs": [],
   "source": [
    "from lxml import objectify\n",
    "import pandas as pd"
   ]
  },
  {
   "cell_type": "code",
   "execution_count": 26,
   "metadata": {
    "collapsed": false
   },
   "outputs": [
    {
     "name": "stdout",
     "output_type": "stream",
     "text": [
      "{http://datex2.eu/schema/1_0/1_0}d2LogicalModel\n",
      "{'modelBaseVersion': '1.0'}\n",
      "2\n"
     ]
    }
   ],
   "source": [
    "# Descarga del fichero UnplannedEvents.xml y parseado\n",
    "parsed = objectify.parse('http://hatrafficinfo.dft.gov.uk/feeds/datex/England/UnplannedEvent/content.xml')\n",
    "root = parsed.getroot()\n",
    "print root.tag\n",
    "print root.attrib\n",
    "print root.countchildren()"
   ]
  },
  {
   "cell_type": "code",
   "execution_count": 27,
   "metadata": {
    "collapsed": false
   },
   "outputs": [
    {
     "data": {
      "text/html": [
       "<div>\n",
       "<table border=\"1\" class=\"dataframe\">\n",
       "  <thead>\n",
       "    <tr style=\"text-align: right;\">\n",
       "      <th></th>\n",
       "      <th>probabilityOfOccurrence</th>\n",
       "      <th>impactOnTraffic</th>\n",
       "      <th>capacityRemaining</th>\n",
       "      <th>numberOfLanesRestricted</th>\n",
       "      <th>numberOfOperationalLanes</th>\n",
       "      <th>originalNumberOfLanes</th>\n",
       "      <th>delayTimeValue</th>\n",
       "      <th>situationRecordVersion</th>\n",
       "    </tr>\n",
       "  </thead>\n",
       "  <tbody>\n",
       "    <tr>\n",
       "      <th>GUID732336731</th>\n",
       "      <td>certain</td>\n",
       "      <td>heavy</td>\n",
       "      <td>75.0</td>\n",
       "      <td>1.0</td>\n",
       "      <td>3.0</td>\n",
       "      <td>4.0</td>\n",
       "      <td>600.0</td>\n",
       "      <td>44.0</td>\n",
       "    </tr>\n",
       "    <tr>\n",
       "      <th>GUID732889125</th>\n",
       "      <td>certain</td>\n",
       "      <td>impossible</td>\n",
       "      <td>0.0</td>\n",
       "      <td>2.0</td>\n",
       "      <td>0.0</td>\n",
       "      <td>2.0</td>\n",
       "      <td>900.0</td>\n",
       "      <td>15.0</td>\n",
       "    </tr>\n",
       "    <tr>\n",
       "      <th>GUID732957845</th>\n",
       "      <td>certain</td>\n",
       "      <td>impossible</td>\n",
       "      <td>0.0</td>\n",
       "      <td>1.0</td>\n",
       "      <td>0.0</td>\n",
       "      <td>1.0</td>\n",
       "      <td>600.0</td>\n",
       "      <td>6.0</td>\n",
       "    </tr>\n",
       "    <tr>\n",
       "      <th>GUID733038589</th>\n",
       "      <td>certain</td>\n",
       "      <td>impossible</td>\n",
       "      <td>0.0</td>\n",
       "      <td>1.0</td>\n",
       "      <td>0.0</td>\n",
       "      <td>1.0</td>\n",
       "      <td>0.0</td>\n",
       "      <td>1.0</td>\n",
       "    </tr>\n",
       "    <tr>\n",
       "      <th>GUID733038591</th>\n",
       "      <td>certain</td>\n",
       "      <td>impossible</td>\n",
       "      <td>0.0</td>\n",
       "      <td>1.0</td>\n",
       "      <td>0.0</td>\n",
       "      <td>1.0</td>\n",
       "      <td>0.0</td>\n",
       "      <td>1.0</td>\n",
       "    </tr>\n",
       "    <tr>\n",
       "      <th>GUID733043648</th>\n",
       "      <td>certain</td>\n",
       "      <td>freeFlow</td>\n",
       "      <td>33.0</td>\n",
       "      <td>2.0</td>\n",
       "      <td>1.0</td>\n",
       "      <td>3.0</td>\n",
       "      <td>0.0</td>\n",
       "      <td>2.0</td>\n",
       "    </tr>\n",
       "  </tbody>\n",
       "</table>\n",
       "</div>"
      ],
      "text/plain": [
       "              probabilityOfOccurrence impactOnTraffic  capacityRemaining  \\\n",
       "GUID732336731                 certain           heavy               75.0   \n",
       "GUID732889125                 certain      impossible                0.0   \n",
       "GUID732957845                 certain      impossible                0.0   \n",
       "GUID733038589                 certain      impossible                0.0   \n",
       "GUID733038591                 certain      impossible                0.0   \n",
       "GUID733043648                 certain        freeFlow               33.0   \n",
       "\n",
       "               numberOfLanesRestricted  numberOfOperationalLanes  \\\n",
       "GUID732336731                      1.0                       3.0   \n",
       "GUID732889125                      2.0                       0.0   \n",
       "GUID732957845                      1.0                       0.0   \n",
       "GUID733038589                      1.0                       0.0   \n",
       "GUID733038591                      1.0                       0.0   \n",
       "GUID733043648                      2.0                       1.0   \n",
       "\n",
       "               originalNumberOfLanes  delayTimeValue  situationRecordVersion  \n",
       "GUID732336731                    4.0           600.0                    44.0  \n",
       "GUID732889125                    2.0           900.0                    15.0  \n",
       "GUID732957845                    1.0           600.0                     6.0  \n",
       "GUID733038589                    1.0             0.0                     1.0  \n",
       "GUID733038591                    1.0             0.0                     1.0  \n",
       "GUID733043648                    3.0             0.0                     2.0  "
      ]
     },
     "execution_count": 27,
     "metadata": {},
     "output_type": "execute_result"
    }
   ],
   "source": [
    "# Contrucción del dataframe con variables seleccionadas y obtención de la información\n",
    "# Esta construcción no funcinaría si alguno de los campos faltara para alguna situation\n",
    "df_ue = pd.DataFrame(columns=[\"probabilityOfOccurrence\",\"impactOnTraffic\", \"capacityRemaining\", \"numberOfLanesRestricted\", \"numberOfOperationalLanes\", \"originalNumberOfLanes\", \"delayTimeValue\", \"situationRecordVersion\"])\n",
    "\n",
    "for sit in root.payloadPublication.situation:\n",
    "    id = sit.attrib['id']\n",
    "    probabilityOfOccurrence=sit.situationRecord.probabilityOfOccurrence.text\n",
    "    impactOnTraffic = sit.situationRecord.impact.impactOnTraffic.text    \n",
    "    capacityRemaining = float(sit.situationRecord.impact.impactDetails.capacityRemaining.text)\n",
    "    numberOfLanesRestricted = int(sit.situationRecord.impact.impactDetails.numberOfLanesRestricted.text)\n",
    "    numberOfOperationalLanes = int(sit.situationRecord.impact.impactDetails.numberOfOperationalLanes.text)\n",
    "    originalNumberOfLanes = int(sit.situationRecord.impact.impactDetails.originalNumberOfLanes.text)    \n",
    "    delayTimeValue = float(sit.situationRecord.impact.delays.delayTimeValue.text)\n",
    "    situationRecordVersion=int(sit.situationRecord.situationRecordVersion.text)\n",
    "    \n",
    "    df_ue.loc[id] = [probabilityOfOccurrence, impactOnTraffic, capacityRemaining, numberOfLanesRestricted, numberOfOperationalLanes,  originalNumberOfLanes, delayTimeValue, situationRecordVersion]\n",
    "\n",
    "df_ue"
   ]
  },
  {
   "cell_type": "code",
   "execution_count": 22,
   "metadata": {
    "collapsed": false
   },
   "outputs": [
    {
     "data": {
      "text/plain": [
       "(6, 8)"
      ]
     },
     "execution_count": 22,
     "metadata": {},
     "output_type": "execute_result"
    }
   ],
   "source": [
    "df_ue.shape"
   ]
  },
  {
   "cell_type": "markdown",
   "metadata": {},
   "source": [
    "Asumimos que la variable dependiente es 'delayTimeValue', al querer analizar cómo determinadas variables que describen un evento no planificado tienen un impacto en esta varaible.\n",
    "\n",
    "La variable 'proboccurrence' no aportaría ningún valor a un posible análisis ya que su valor es constante. Siempre toma el valor='certain'. Se eliminará del análisis.\n",
    "\n",
    "Hay cuatro variables que podrían resumirse en una. La variable 'numberOfLanesRestricted' es un combinación lineal de 'originalNumberofLanes' y 'numberOfOperationalLanes'. \n",
    "\n",
    "La variable 'capacityRemaining' es una transformación de la variable 'numberOfOperationalLanes', por lo que, de nuevo, es una combinación lineal de 'originalNumberofLanes' y 'numberOfOperationalLanes'.\n",
    "\n",
    "Por lo tanto, se eliminarán las siguientes variables 'numberOfLanesRestricted'  'numberOfOperationalLanes', y 'originalNumberofLanes'; se mantendrá  'capacityRemaining', que recoge toda la información necesaria. El principio de parsimonia o cuchilla de afeitar de Occam, indica que las descripciones deben mantenerse lo más simples posibles hasta el momento que se demuestre que resultan inadecuadas. Adicionalmente, la introducción de información redudante puede llevar a la elección de una forma funcional incorrecta en la modelización (aunque en este caso no se va a proceder a realizar ninguna modelización con seis observaciones).\n",
    "\n",
    "El escaso número de observaciones, un total de seis, no permite realizar ningún  análisis. No obstante, con el con el objeto de jugar con las opciones de pandas, se va aproceder a calcular correlaciones y a realizar un pairwise plot."
   ]
  },
  {
   "cell_type": "code",
   "execution_count": 28,
   "metadata": {
    "collapsed": false
   },
   "outputs": [],
   "source": [
    "df_ue_f = df_ue[[\"impactOnTraffic\", \"capacityRemaining\",\"delayTimeValue\", \"situationRecordVersion\"]]"
   ]
  },
  {
   "cell_type": "code",
   "execution_count": 29,
   "metadata": {
    "collapsed": false
   },
   "outputs": [
    {
     "data": {
      "text/html": [
       "<div>\n",
       "<table border=\"1\" class=\"dataframe\">\n",
       "  <thead>\n",
       "    <tr style=\"text-align: right;\">\n",
       "      <th></th>\n",
       "      <th>capacityRemaining</th>\n",
       "      <th>delayTimeValue</th>\n",
       "      <th>situationRecordVersion</th>\n",
       "    </tr>\n",
       "  </thead>\n",
       "  <tbody>\n",
       "    <tr>\n",
       "      <th>capacityRemaining</th>\n",
       "      <td>1.000000</td>\n",
       "      <td>0.116920</td>\n",
       "      <td>0.819149</td>\n",
       "    </tr>\n",
       "    <tr>\n",
       "      <th>delayTimeValue</th>\n",
       "      <td>0.116920</td>\n",
       "      <td>1.000000</td>\n",
       "      <td>0.578049</td>\n",
       "    </tr>\n",
       "    <tr>\n",
       "      <th>situationRecordVersion</th>\n",
       "      <td>0.819149</td>\n",
       "      <td>0.578049</td>\n",
       "      <td>1.000000</td>\n",
       "    </tr>\n",
       "  </tbody>\n",
       "</table>\n",
       "</div>"
      ],
      "text/plain": [
       "                        capacityRemaining  delayTimeValue  \\\n",
       "capacityRemaining                1.000000        0.116920   \n",
       "delayTimeValue                   0.116920        1.000000   \n",
       "situationRecordVersion           0.819149        0.578049   \n",
       "\n",
       "                        situationRecordVersion  \n",
       "capacityRemaining                     0.819149  \n",
       "delayTimeValue                        0.578049  \n",
       "situationRecordVersion                1.000000  "
      ]
     },
     "execution_count": 29,
     "metadata": {},
     "output_type": "execute_result"
    }
   ],
   "source": [
    "df_ue_f.corr(method='pearson')"
   ]
  },
  {
   "cell_type": "code",
   "execution_count": 17,
   "metadata": {
    "collapsed": false,
    "scrolled": false
   },
   "outputs": [
    {
     "data": {
      "image/png": "[encoded data removed]",
      "text/plain": [
       "<matplotlib.figure.Figure at 0x117d1a810>"
      ]
     },
     "metadata": {},
     "output_type": "display_data"
    }
   ],
   "source": [
    "import seaborn as sns\n",
    "import matplotlib.pyplot as plt\n",
    "sns.pairplot(df_ue_f[[\"impactOnTraffic\", \"capacityRemaining\",\"delayTimeValue\", \"situationRecordVersion\"]])\n",
    "plt.show()"
   ]
  }
 ],
 "metadata": {
  "anaconda-cloud": {},
  "kernelspec": {
   "display_name": "Python [default]",
   "language": "python",
   "name": "python2"
  },
  "language_info": {
   "codemirror_mode": {
    "name": "ipython",
    "version": 2
   },
   "file_extension": ".py",
   "mimetype": "text/x-python",
   "name": "python",
   "nbconvert_exporter": "python",
   "pygments_lexer": "ipython2",
   "version": "2.7.12"
  }
 },
 "nbformat": 4,
 "nbformat_minor": 0
}
