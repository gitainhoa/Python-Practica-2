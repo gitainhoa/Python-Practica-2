{
 "cells": [
  {
   "cell_type": "markdown",
   "metadata": {},
   "source": [
    "# Datos Climáticos web NOOA del Gobierno de EEUU\n",
    "\n",
    "La descarga del data set se realiza en la URL http://www.ncdc.noaa.gov/orders/qclcd/. La información está contenida en ficheros comprimidos; cada uno de ellos alberga entre otros un fichero txt con la información de las precipitaciones.\n",
    "\n",
    "Se pide tomar datos de varios años de este conjunto de datasets para las precipitaciones y obterner resúmenes:\n",
    "- día en que ha habido más precipitaciones\n",
    "- año en que ha habido más precipitaciones (obteniendo la media de cada año)\n",
    "\n",
    "Se pide realizar el análisis en dos versiones:\n",
    "- dataframes\n",
    "- HDf5 "
   ]
  },
  {
   "cell_type": "markdown",
   "metadata": {},
   "source": [
    "Procedimiento:\n",
    "- importar librerías \n",
    "- descarga de los ficheros zip\n",
    "- descompresión de los ficheros zip y selección de los txt relativos a precipitaciones: '.*precip*'\n",
    "- construcción del dataframe\n",
    "- realización de cálculos utilizando dataframes y HDF5   "
   ]
  },
  {
   "cell_type": "code",
   "execution_count": 1,
   "metadata": {
    "collapsed": true
   },
   "outputs": [],
   "source": [
    "from urllib import urlretrieve # copia de un network object denoted by a URL to en un fichero local\n",
    "\n",
    "import zipfile # manipular archivos zip, no es válida si los files contienen comentarios\n",
    "\n",
    "import os # métodos para trabajar de forma portable con las funcionalidades del sistema operativo\n",
    "import os.path # acceso a ciertas funcionalidades relacionadas con los nombres de las rutas de archivos y directorios\n",
    "\n",
    "import re # expresiones regulares\n",
    "\n",
    "import glob # filename pattern matching\n",
    "\n",
    "import numpy as np\n",
    "import pandas as pd\n",
    "from pandas import HDFStore, DataFrame #HDF5 con pandas"
   ]
  },
  {
   "cell_type": "code",
   "execution_count": 2,
   "metadata": {
    "collapsed": true
   },
   "outputs": [],
   "source": [
    "# Expresa el mes en un string que contenga dos caracteres para poder proceder a la descarga\n",
    "# Así están nombrados los archivos en la URL\n",
    "\n",
    "def string_month(mes):\n",
    "    if len(str(mes)) == 1:\n",
    "        return '0' + str(mes)\n",
    "    else:\n",
    "        return str(mes)"
   ]
  },
  {
   "cell_type": "code",
   "execution_count": 3,
   "metadata": {
    "collapsed": true
   },
   "outputs": [],
   "source": [
    "# Descomprime los ficheros de precipitaciones\n",
    "\n",
    "def des_prep(zipFileName):\n",
    "    \n",
    "    # Compilación de la regular expression pattern into a regular expression object, para poder usar match()\n",
    "    p = re.compile('.*precip*') \n",
    "    \n",
    "    # Lee metadata de los archivos zip\n",
    "    zfile = zipfile.ZipFile(zipFileName) \n",
    "    \n",
    "    # Lee los nombres de los archivos en el zfile y devuelve una lista \n",
    "    for name in zfile.namelist():\n",
    "        # Selecciona los files de precipitaciones\n",
    "        if (p.match(name)): # Descomprimir los ficheros de precipitaciones\n",
    "            #(dirname, filename) = os.path.split(name)\n",
    "            zfile.extract(name, os.getcwd())"
   ]
  },
  {
   "cell_type": "code",
   "execution_count": 4,
   "metadata": {
    "collapsed": true
   },
   "outputs": [],
   "source": [
    "# Descarga los datos del año y llama a la función des_prep para la descompresión de los files de precipitaciones\n",
    "\n",
    "def down_year(year):\n",
    "    for i in range(1,13): # Este bucle solo funciona par aquellos años en los que haya zip para los doce meses\n",
    "        urlretrieve('http://www.ncdc.noaa.gov/orders/qclcd/QCLCD'+str(year)+string_month(i)+'.zip',\"QCLCD\"+str(year)+string_month(i)+\".zip\")\n",
    "        des_prep(\"QCLCD\"+str(year)+string_month(i)+\".zip\")"
   ]
  },
  {
   "cell_type": "markdown",
   "metadata": {},
   "source": [
    "## Descarga y creación de dataframe global\n",
    "Vamos a probar con un año de crisis económica 2009 (año de los brotes verdes)  y otro de \"recuperación económica\", 2014. Es decir, \"a lo loco\". (Al probar más de dos años, algún archivo txt correspondiente a 2008 y 2015 tenía alguna columna adicional o algún comentario, no me ha sido posible realizar prueba y error, y entiendo que está fuera de lo exigido en el ejercicio). "
   ]
  },
  {
   "cell_type": "code",
   "execution_count": 5,
   "metadata": {
    "collapsed": false
   },
   "outputs": [],
   "source": [
    "down_year(2009)\n",
    "\n",
    "down_year(2014)\n"
   ]
  },
  {
   "cell_type": "code",
   "execution_count": 6,
   "metadata": {
    "collapsed": true
   },
   "outputs": [],
   "source": [
    "# Construye el dataframe\n",
    "def concatenacion():   \n",
    "    # Utilización de glob para la selección los txt del directorio de trabajo\n",
    "    archivos = glob.glob(os.getcwd() + \"/*precip*.txt\") \n",
    "    frame = pd.DataFrame()\n",
    "    lista = []\n",
    "    for file_ in archivos:\n",
    "        df = pd.read_csv(file_,index_col=None, header=0)\n",
    "        lista.append(df)\n",
    "    frame = pd.concat(lista) \n",
    "    return frame"
   ]
  },
  {
   "cell_type": "code",
   "execution_count": 7,
   "metadata": {
    "collapsed": false
   },
   "outputs": [],
   "source": [
    "df_prep = concatenacion()"
   ]
  },
  {
   "cell_type": "code",
   "execution_count": 8,
   "metadata": {
    "collapsed": false
   },
   "outputs": [
    {
     "data": {
      "text/plain": [
       "(35675016, 5)"
      ]
     },
     "execution_count": 8,
     "metadata": {},
     "output_type": "execute_result"
    }
   ],
   "source": [
    "df_prep.shape"
   ]
  },
  {
   "cell_type": "code",
   "execution_count": 9,
   "metadata": {
    "collapsed": false
   },
   "outputs": [],
   "source": [
    "# Convertir a tipo numérico la variable Precipitation\n",
    "\n",
    "df_prep['Precipitation_num'] = pd.to_numeric(df_prep['Precipitation'], errors = 'coerce')"
   ]
  },
  {
   "cell_type": "code",
   "execution_count": 10,
   "metadata": {
    "collapsed": false
   },
   "outputs": [
    {
     "data": {
      "text/html": [
       "<div>\n",
       "<table border=\"1\" class=\"dataframe\">\n",
       "  <thead>\n",
       "    <tr style=\"text-align: right;\">\n",
       "      <th></th>\n",
       "      <th>Wban</th>\n",
       "      <th>YearMonthDay</th>\n",
       "      <th>Hour</th>\n",
       "      <th>Precipitation</th>\n",
       "      <th>PrecipitationFlag</th>\n",
       "      <th>Precipitation_num</th>\n",
       "    </tr>\n",
       "  </thead>\n",
       "  <tbody>\n",
       "    <tr>\n",
       "      <th>0</th>\n",
       "      <td>3011</td>\n",
       "      <td>20090101</td>\n",
       "      <td>1</td>\n",
       "      <td></td>\n",
       "      <td></td>\n",
       "      <td>NaN</td>\n",
       "    </tr>\n",
       "    <tr>\n",
       "      <th>1</th>\n",
       "      <td>3011</td>\n",
       "      <td>20090101</td>\n",
       "      <td>2</td>\n",
       "      <td></td>\n",
       "      <td></td>\n",
       "      <td>NaN</td>\n",
       "    </tr>\n",
       "    <tr>\n",
       "      <th>2</th>\n",
       "      <td>3011</td>\n",
       "      <td>20090101</td>\n",
       "      <td>3</td>\n",
       "      <td></td>\n",
       "      <td></td>\n",
       "      <td>NaN</td>\n",
       "    </tr>\n",
       "    <tr>\n",
       "      <th>3</th>\n",
       "      <td>3011</td>\n",
       "      <td>20090101</td>\n",
       "      <td>4</td>\n",
       "      <td></td>\n",
       "      <td></td>\n",
       "      <td>NaN</td>\n",
       "    </tr>\n",
       "    <tr>\n",
       "      <th>4</th>\n",
       "      <td>3011</td>\n",
       "      <td>20090101</td>\n",
       "      <td>5</td>\n",
       "      <td></td>\n",
       "      <td></td>\n",
       "      <td>NaN</td>\n",
       "    </tr>\n",
       "    <tr>\n",
       "      <th>5</th>\n",
       "      <td>3011</td>\n",
       "      <td>20090101</td>\n",
       "      <td>6</td>\n",
       "      <td></td>\n",
       "      <td></td>\n",
       "      <td>NaN</td>\n",
       "    </tr>\n",
       "    <tr>\n",
       "      <th>6</th>\n",
       "      <td>3011</td>\n",
       "      <td>20090101</td>\n",
       "      <td>7</td>\n",
       "      <td></td>\n",
       "      <td></td>\n",
       "      <td>NaN</td>\n",
       "    </tr>\n",
       "    <tr>\n",
       "      <th>7</th>\n",
       "      <td>3011</td>\n",
       "      <td>20090101</td>\n",
       "      <td>8</td>\n",
       "      <td></td>\n",
       "      <td></td>\n",
       "      <td>NaN</td>\n",
       "    </tr>\n",
       "    <tr>\n",
       "      <th>8</th>\n",
       "      <td>3011</td>\n",
       "      <td>20090101</td>\n",
       "      <td>9</td>\n",
       "      <td></td>\n",
       "      <td></td>\n",
       "      <td>NaN</td>\n",
       "    </tr>\n",
       "    <tr>\n",
       "      <th>9</th>\n",
       "      <td>3011</td>\n",
       "      <td>20090101</td>\n",
       "      <td>10</td>\n",
       "      <td></td>\n",
       "      <td></td>\n",
       "      <td>NaN</td>\n",
       "    </tr>\n",
       "  </tbody>\n",
       "</table>\n",
       "</div>"
      ],
      "text/plain": [
       "   Wban  YearMonthDay  Hour Precipitation PrecipitationFlag  Precipitation_num\n",
       "0  3011      20090101     1                                                NaN\n",
       "1  3011      20090101     2                                                NaN\n",
       "2  3011      20090101     3                                                NaN\n",
       "3  3011      20090101     4                                                NaN\n",
       "4  3011      20090101     5                                                NaN\n",
       "5  3011      20090101     6                                                NaN\n",
       "6  3011      20090101     7                                                NaN\n",
       "7  3011      20090101     8                                                NaN\n",
       "8  3011      20090101     9                                                NaN\n",
       "9  3011      20090101    10                                                NaN"
      ]
     },
     "execution_count": 10,
     "metadata": {},
     "output_type": "execute_result"
    }
   ],
   "source": [
    "df_prep.head(10)"
   ]
  },
  {
   "cell_type": "code",
   "execution_count": 11,
   "metadata": {
    "collapsed": false,
    "scrolled": true
   },
   "outputs": [],
   "source": [
    "# Creacion de la variable Year\n",
    "\n",
    "df_prep['Year'] = df_prep.YearMonthDay.apply(lambda x: str(x)[0:4])"
   ]
  },
  {
   "cell_type": "code",
   "execution_count": 12,
   "metadata": {
    "collapsed": false
   },
   "outputs": [
    {
     "data": {
      "text/html": [
       "<div>\n",
       "<table border=\"1\" class=\"dataframe\">\n",
       "  <thead>\n",
       "    <tr style=\"text-align: right;\">\n",
       "      <th></th>\n",
       "      <th>Wban</th>\n",
       "      <th>YearMonthDay</th>\n",
       "      <th>Hour</th>\n",
       "      <th>Precipitation</th>\n",
       "      <th>PrecipitationFlag</th>\n",
       "      <th>Precipitation_num</th>\n",
       "      <th>Year</th>\n",
       "    </tr>\n",
       "  </thead>\n",
       "  <tbody>\n",
       "    <tr>\n",
       "      <th>0</th>\n",
       "      <td>3011</td>\n",
       "      <td>20090101</td>\n",
       "      <td>1</td>\n",
       "      <td></td>\n",
       "      <td></td>\n",
       "      <td>NaN</td>\n",
       "      <td>2009</td>\n",
       "    </tr>\n",
       "    <tr>\n",
       "      <th>1</th>\n",
       "      <td>3011</td>\n",
       "      <td>20090101</td>\n",
       "      <td>2</td>\n",
       "      <td></td>\n",
       "      <td></td>\n",
       "      <td>NaN</td>\n",
       "      <td>2009</td>\n",
       "    </tr>\n",
       "    <tr>\n",
       "      <th>2</th>\n",
       "      <td>3011</td>\n",
       "      <td>20090101</td>\n",
       "      <td>3</td>\n",
       "      <td></td>\n",
       "      <td></td>\n",
       "      <td>NaN</td>\n",
       "      <td>2009</td>\n",
       "    </tr>\n",
       "    <tr>\n",
       "      <th>3</th>\n",
       "      <td>3011</td>\n",
       "      <td>20090101</td>\n",
       "      <td>4</td>\n",
       "      <td></td>\n",
       "      <td></td>\n",
       "      <td>NaN</td>\n",
       "      <td>2009</td>\n",
       "    </tr>\n",
       "    <tr>\n",
       "      <th>4</th>\n",
       "      <td>3011</td>\n",
       "      <td>20090101</td>\n",
       "      <td>5</td>\n",
       "      <td></td>\n",
       "      <td></td>\n",
       "      <td>NaN</td>\n",
       "      <td>2009</td>\n",
       "    </tr>\n",
       "    <tr>\n",
       "      <th>5</th>\n",
       "      <td>3011</td>\n",
       "      <td>20090101</td>\n",
       "      <td>6</td>\n",
       "      <td></td>\n",
       "      <td></td>\n",
       "      <td>NaN</td>\n",
       "      <td>2009</td>\n",
       "    </tr>\n",
       "    <tr>\n",
       "      <th>6</th>\n",
       "      <td>3011</td>\n",
       "      <td>20090101</td>\n",
       "      <td>7</td>\n",
       "      <td></td>\n",
       "      <td></td>\n",
       "      <td>NaN</td>\n",
       "      <td>2009</td>\n",
       "    </tr>\n",
       "    <tr>\n",
       "      <th>7</th>\n",
       "      <td>3011</td>\n",
       "      <td>20090101</td>\n",
       "      <td>8</td>\n",
       "      <td></td>\n",
       "      <td></td>\n",
       "      <td>NaN</td>\n",
       "      <td>2009</td>\n",
       "    </tr>\n",
       "    <tr>\n",
       "      <th>8</th>\n",
       "      <td>3011</td>\n",
       "      <td>20090101</td>\n",
       "      <td>9</td>\n",
       "      <td></td>\n",
       "      <td></td>\n",
       "      <td>NaN</td>\n",
       "      <td>2009</td>\n",
       "    </tr>\n",
       "    <tr>\n",
       "      <th>9</th>\n",
       "      <td>3011</td>\n",
       "      <td>20090101</td>\n",
       "      <td>10</td>\n",
       "      <td></td>\n",
       "      <td></td>\n",
       "      <td>NaN</td>\n",
       "      <td>2009</td>\n",
       "    </tr>\n",
       "  </tbody>\n",
       "</table>\n",
       "</div>"
      ],
      "text/plain": [
       "   Wban  YearMonthDay  Hour Precipitation PrecipitationFlag  \\\n",
       "0  3011      20090101     1                                   \n",
       "1  3011      20090101     2                                   \n",
       "2  3011      20090101     3                                   \n",
       "3  3011      20090101     4                                   \n",
       "4  3011      20090101     5                                   \n",
       "5  3011      20090101     6                                   \n",
       "6  3011      20090101     7                                   \n",
       "7  3011      20090101     8                                   \n",
       "8  3011      20090101     9                                   \n",
       "9  3011      20090101    10                                   \n",
       "\n",
       "   Precipitation_num  Year  \n",
       "0                NaN  2009  \n",
       "1                NaN  2009  \n",
       "2                NaN  2009  \n",
       "3                NaN  2009  \n",
       "4                NaN  2009  \n",
       "5                NaN  2009  \n",
       "6                NaN  2009  \n",
       "7                NaN  2009  \n",
       "8                NaN  2009  \n",
       "9                NaN  2009  "
      ]
     },
     "execution_count": 12,
     "metadata": {},
     "output_type": "execute_result"
    }
   ],
   "source": [
    "df_prep.head(10)"
   ]
  },
  {
   "cell_type": "code",
   "execution_count": 13,
   "metadata": {
    "collapsed": false
   },
   "outputs": [],
   "source": [
    "# Limpieza del dataframe -variables no necesarias para el análisis-\n",
    "\n",
    "df_prep_f = df_prep[['Precipitation_num','Year','YearMonthDay']]"
   ]
  },
  {
   "cell_type": "code",
   "execution_count": 14,
   "metadata": {
    "collapsed": false
   },
   "outputs": [
    {
     "data": {
      "text/html": [
       "<div>\n",
       "<table border=\"1\" class=\"dataframe\">\n",
       "  <thead>\n",
       "    <tr style=\"text-align: right;\">\n",
       "      <th></th>\n",
       "      <th>Precipitation_num</th>\n",
       "      <th>Year</th>\n",
       "      <th>YearMonthDay</th>\n",
       "    </tr>\n",
       "  </thead>\n",
       "  <tbody>\n",
       "    <tr>\n",
       "      <th>0</th>\n",
       "      <td>NaN</td>\n",
       "      <td>2009</td>\n",
       "      <td>20090101</td>\n",
       "    </tr>\n",
       "    <tr>\n",
       "      <th>1</th>\n",
       "      <td>NaN</td>\n",
       "      <td>2009</td>\n",
       "      <td>20090101</td>\n",
       "    </tr>\n",
       "    <tr>\n",
       "      <th>2</th>\n",
       "      <td>NaN</td>\n",
       "      <td>2009</td>\n",
       "      <td>20090101</td>\n",
       "    </tr>\n",
       "    <tr>\n",
       "      <th>3</th>\n",
       "      <td>NaN</td>\n",
       "      <td>2009</td>\n",
       "      <td>20090101</td>\n",
       "    </tr>\n",
       "    <tr>\n",
       "      <th>4</th>\n",
       "      <td>NaN</td>\n",
       "      <td>2009</td>\n",
       "      <td>20090101</td>\n",
       "    </tr>\n",
       "    <tr>\n",
       "      <th>5</th>\n",
       "      <td>NaN</td>\n",
       "      <td>2009</td>\n",
       "      <td>20090101</td>\n",
       "    </tr>\n",
       "    <tr>\n",
       "      <th>6</th>\n",
       "      <td>NaN</td>\n",
       "      <td>2009</td>\n",
       "      <td>20090101</td>\n",
       "    </tr>\n",
       "    <tr>\n",
       "      <th>7</th>\n",
       "      <td>NaN</td>\n",
       "      <td>2009</td>\n",
       "      <td>20090101</td>\n",
       "    </tr>\n",
       "    <tr>\n",
       "      <th>8</th>\n",
       "      <td>NaN</td>\n",
       "      <td>2009</td>\n",
       "      <td>20090101</td>\n",
       "    </tr>\n",
       "    <tr>\n",
       "      <th>9</th>\n",
       "      <td>NaN</td>\n",
       "      <td>2009</td>\n",
       "      <td>20090101</td>\n",
       "    </tr>\n",
       "  </tbody>\n",
       "</table>\n",
       "</div>"
      ],
      "text/plain": [
       "   Precipitation_num  Year  YearMonthDay\n",
       "0                NaN  2009      20090101\n",
       "1                NaN  2009      20090101\n",
       "2                NaN  2009      20090101\n",
       "3                NaN  2009      20090101\n",
       "4                NaN  2009      20090101\n",
       "5                NaN  2009      20090101\n",
       "6                NaN  2009      20090101\n",
       "7                NaN  2009      20090101\n",
       "8                NaN  2009      20090101\n",
       "9                NaN  2009      20090101"
      ]
     },
     "execution_count": 14,
     "metadata": {},
     "output_type": "execute_result"
    }
   ],
   "source": [
    "df_prep_f.head(10)"
   ]
  },
  {
   "cell_type": "code",
   "execution_count": 15,
   "metadata": {
    "collapsed": false
   },
   "outputs": [],
   "source": [
    "# Limpieza del dataframe -NaN de la variable dependiente-\n",
    "\n",
    "df_prep_f = df_prep_f[np.isfinite(df_prep_f['Precipitation_num'])]"
   ]
  },
  {
   "cell_type": "code",
   "execution_count": 16,
   "metadata": {
    "collapsed": false
   },
   "outputs": [
    {
     "data": {
      "text/plain": [
       "(1615812, 3)"
      ]
     },
     "execution_count": 16,
     "metadata": {},
     "output_type": "execute_result"
    }
   ],
   "source": [
    "df_prep_f.shape"
   ]
  },
  {
   "cell_type": "code",
   "execution_count": 17,
   "metadata": {
    "collapsed": false
   },
   "outputs": [
    {
     "data": {
      "text/html": [
       "<div>\n",
       "<table border=\"1\" class=\"dataframe\">\n",
       "  <thead>\n",
       "    <tr style=\"text-align: right;\">\n",
       "      <th></th>\n",
       "      <th>Precipitation_num</th>\n",
       "      <th>Year</th>\n",
       "      <th>YearMonthDay</th>\n",
       "    </tr>\n",
       "  </thead>\n",
       "  <tbody>\n",
       "    <tr>\n",
       "      <th>525</th>\n",
       "      <td>0.01</td>\n",
       "      <td>2009</td>\n",
       "      <td>20090122</td>\n",
       "    </tr>\n",
       "    <tr>\n",
       "      <th>531</th>\n",
       "      <td>0.01</td>\n",
       "      <td>2009</td>\n",
       "      <td>20090123</td>\n",
       "    </tr>\n",
       "    <tr>\n",
       "      <th>533</th>\n",
       "      <td>0.02</td>\n",
       "      <td>2009</td>\n",
       "      <td>20090123</td>\n",
       "    </tr>\n",
       "    <tr>\n",
       "      <th>534</th>\n",
       "      <td>0.02</td>\n",
       "      <td>2009</td>\n",
       "      <td>20090123</td>\n",
       "    </tr>\n",
       "    <tr>\n",
       "      <th>535</th>\n",
       "      <td>0.01</td>\n",
       "      <td>2009</td>\n",
       "      <td>20090123</td>\n",
       "    </tr>\n",
       "    <tr>\n",
       "      <th>541</th>\n",
       "      <td>0.01</td>\n",
       "      <td>2009</td>\n",
       "      <td>20090123</td>\n",
       "    </tr>\n",
       "    <tr>\n",
       "      <th>605</th>\n",
       "      <td>0.02</td>\n",
       "      <td>2009</td>\n",
       "      <td>20090126</td>\n",
       "    </tr>\n",
       "    <tr>\n",
       "      <th>606</th>\n",
       "      <td>0.02</td>\n",
       "      <td>2009</td>\n",
       "      <td>20090126</td>\n",
       "    </tr>\n",
       "    <tr>\n",
       "      <th>822</th>\n",
       "      <td>0.02</td>\n",
       "      <td>2009</td>\n",
       "      <td>20090104</td>\n",
       "    </tr>\n",
       "    <tr>\n",
       "      <th>823</th>\n",
       "      <td>0.03</td>\n",
       "      <td>2009</td>\n",
       "      <td>20090104</td>\n",
       "    </tr>\n",
       "  </tbody>\n",
       "</table>\n",
       "</div>"
      ],
      "text/plain": [
       "     Precipitation_num  Year  YearMonthDay\n",
       "525               0.01  2009      20090122\n",
       "531               0.01  2009      20090123\n",
       "533               0.02  2009      20090123\n",
       "534               0.02  2009      20090123\n",
       "535               0.01  2009      20090123\n",
       "541               0.01  2009      20090123\n",
       "605               0.02  2009      20090126\n",
       "606               0.02  2009      20090126\n",
       "822               0.02  2009      20090104\n",
       "823               0.03  2009      20090104"
      ]
     },
     "execution_count": 17,
     "metadata": {},
     "output_type": "execute_result"
    }
   ],
   "source": [
    "df_prep_f.head(10)"
   ]
  },
  {
   "cell_type": "markdown",
   "metadata": {},
   "source": [
    "## Almacenamiento en formato HDF5"
   ]
  },
  {
   "cell_type": "code",
   "execution_count": 18,
   "metadata": {
    "collapsed": false
   },
   "outputs": [
    {
     "data": {
      "text/html": [
       "<div>\n",
       "<table border=\"1\" class=\"dataframe\">\n",
       "  <thead>\n",
       "    <tr style=\"text-align: right;\">\n",
       "      <th></th>\n",
       "      <th>Precipitation_num</th>\n",
       "      <th>Year</th>\n",
       "      <th>YearMonthDay</th>\n",
       "    </tr>\n",
       "  </thead>\n",
       "  <tbody>\n",
       "    <tr>\n",
       "      <th>525</th>\n",
       "      <td>0.01</td>\n",
       "      <td>2009</td>\n",
       "      <td>20090122</td>\n",
       "    </tr>\n",
       "    <tr>\n",
       "      <th>531</th>\n",
       "      <td>0.01</td>\n",
       "      <td>2009</td>\n",
       "      <td>20090123</td>\n",
       "    </tr>\n",
       "    <tr>\n",
       "      <th>533</th>\n",
       "      <td>0.02</td>\n",
       "      <td>2009</td>\n",
       "      <td>20090123</td>\n",
       "    </tr>\n",
       "    <tr>\n",
       "      <th>534</th>\n",
       "      <td>0.02</td>\n",
       "      <td>2009</td>\n",
       "      <td>20090123</td>\n",
       "    </tr>\n",
       "    <tr>\n",
       "      <th>535</th>\n",
       "      <td>0.01</td>\n",
       "      <td>2009</td>\n",
       "      <td>20090123</td>\n",
       "    </tr>\n",
       "    <tr>\n",
       "      <th>541</th>\n",
       "      <td>0.01</td>\n",
       "      <td>2009</td>\n",
       "      <td>20090123</td>\n",
       "    </tr>\n",
       "    <tr>\n",
       "      <th>605</th>\n",
       "      <td>0.02</td>\n",
       "      <td>2009</td>\n",
       "      <td>20090126</td>\n",
       "    </tr>\n",
       "    <tr>\n",
       "      <th>606</th>\n",
       "      <td>0.02</td>\n",
       "      <td>2009</td>\n",
       "      <td>20090126</td>\n",
       "    </tr>\n",
       "    <tr>\n",
       "      <th>822</th>\n",
       "      <td>0.02</td>\n",
       "      <td>2009</td>\n",
       "      <td>20090104</td>\n",
       "    </tr>\n",
       "    <tr>\n",
       "      <th>823</th>\n",
       "      <td>0.03</td>\n",
       "      <td>2009</td>\n",
       "      <td>20090104</td>\n",
       "    </tr>\n",
       "  </tbody>\n",
       "</table>\n",
       "</div>"
      ],
      "text/plain": [
       "     Precipitation_num  Year  YearMonthDay\n",
       "525               0.01  2009      20090122\n",
       "531               0.01  2009      20090123\n",
       "533               0.02  2009      20090123\n",
       "534               0.02  2009      20090123\n",
       "535               0.01  2009      20090123\n",
       "541               0.01  2009      20090123\n",
       "605               0.02  2009      20090126\n",
       "606               0.02  2009      20090126\n",
       "822               0.02  2009      20090104\n",
       "823               0.03  2009      20090104"
      ]
     },
     "execution_count": 18,
     "metadata": {},
     "output_type": "execute_result"
    }
   ],
   "source": [
    "# Para la utilización de pandas y hdf5, he seguido: http://glowingpython.blogspot.com.es/2014/08/quick-hdf5-with-pandas.html\n",
    "# Crear un fichero hdf5 y apertura en formato append \n",
    "hdf =HDFStore('hdf5_precipitacion')\n",
    "\n",
    "# Colocar el dataframe df_prep_f en el fichero hdf5\n",
    "hdf.put('Tabla/hdf5_precipitacion', df_prep_f, format='table', data_columns=True)\n",
    "\n",
    "hdf['Tabla/hdf5_precipitacion'].head(10)"
   ]
  },
  {
   "cell_type": "code",
   "execution_count": 19,
   "metadata": {
    "collapsed": false
   },
   "outputs": [
    {
     "name": "stdout",
     "output_type": "stream",
     "text": [
      "<class 'pandas.io.pytables.HDFStore'>\n",
      "File path: hdf5_precipitacion\n",
      "/Tabla/hdf5_precipitacion            frame_table  (typ->appendable,nrows->1615812,ncols->3,indexers->[index],dc->[Precipitation_num,Year,YearMonthDay])\n"
     ]
    }
   ],
   "source": [
    "print hdf"
   ]
  },
  {
   "cell_type": "code",
   "execution_count": 20,
   "metadata": {
    "collapsed": false
   },
   "outputs": [
    {
     "name": "stdout",
     "output_type": "stream",
     "text": [
      "(1615812, 3)\n"
     ]
    }
   ],
   "source": [
    "print hdf['Tabla/hdf5_precipitacion'].shape"
   ]
  },
  {
   "cell_type": "markdown",
   "metadata": {},
   "source": [
    "# Cálculo del día de máximas precipitaciones de los años seleccionados: 2009 y 2015"
   ]
  },
  {
   "cell_type": "markdown",
   "metadata": {},
   "source": [
    "## Utilizando Dataframe"
   ]
  },
  {
   "cell_type": "code",
   "execution_count": 21,
   "metadata": {
    "collapsed": false
   },
   "outputs": [
    {
     "name": "stdout",
     "output_type": "stream",
     "text": [
      "Día\n",
      "Precipitation_num    20141016\n",
      "dtype: int64\n",
      "Cantidad Precipitación\n",
      "Precipitation_num    13010140.27\n",
      "dtype: float64\n",
      "Tiempo empleado en el cálculo con DF\n",
      "0:00:00.104387\n"
     ]
    }
   ],
   "source": [
    "import datetime\n",
    "\n",
    "# Para el cálculo del tiempo empleado\n",
    "start = datetime.datetime.now()\n",
    "\n",
    "# Día de máxima precipitación\n",
    "df_group_by_day = df_prep_f[['YearMonthDay','Precipitation_num']].groupby('YearMonthDay').aggregate(np.sum)\n",
    "print(\"Día\"); print(df_group_by_day.idxmax())\n",
    "print(\"Cantidad Precipitación\"); print(df_group_by_day.max())\n",
    "\n",
    "# Para el cálculo del tiempo empleado\n",
    "stop = datetime.datetime.now()\n",
    "Tiempo_DF = stop - start\n",
    "print (\"Tiempo empleado en el cálculo con DF\"); print(Tiempo_DF)"
   ]
  },
  {
   "cell_type": "markdown",
   "metadata": {},
   "source": [
    "## Utilizando HDF5"
   ]
  },
  {
   "cell_type": "code",
   "execution_count": 22,
   "metadata": {
    "collapsed": false,
    "scrolled": true
   },
   "outputs": [
    {
     "name": "stdout",
     "output_type": "stream",
     "text": [
      "Día\n",
      "Precipitation_num    20141016\n",
      "dtype: int64\n",
      "Cantidad Precipitación\n",
      "Precipitation_num    13010140.27\n",
      "dtype: float64\n",
      "Tiempo empleado en el cálculo con HDP5\n",
      "0:00:00.453963\n"
     ]
    }
   ],
   "source": [
    "start = datetime.datetime.now()\n",
    "\n",
    "df_group_by_day = hdf['Tabla/hdf5_precipitacion'][['YearMonthDay','Precipitation_num']].groupby('YearMonthDay').aggregate(np.sum)\n",
    "print(\"Día\"); print(df_group_by_day.idxmax())\n",
    "print(\"Cantidad Precipitación\"); print(df_group_by_day.max())\n",
    "\n",
    "# Para el cálculo del tiempo empleado\n",
    "stop = datetime.datetime.now()\n",
    "Tiempo_HDF = stop - start\n",
    "print (\"Tiempo empleado en el cálculo con HDP5\"); print(Tiempo_HDF)\n"
   ]
  },
  {
   "cell_type": "markdown",
   "metadata": {},
   "source": [
    "# Cálculo de la media de precipitaciones por año: 2009 y 2015"
   ]
  },
  {
   "cell_type": "markdown",
   "metadata": {},
   "source": [
    "## Utilizando Dataframe"
   ]
  },
  {
   "cell_type": "code",
   "execution_count": 23,
   "metadata": {
    "collapsed": false
   },
   "outputs": [
    {
     "name": "stdout",
     "output_type": "stream",
     "text": [
      "Year\n",
      "2009     0.066003\n",
      "2014    30.783033\n",
      "Name: Precipitation_num, dtype: float64\n",
      "Tiempo empleado en el cálculo con DF\n",
      "0:00:00.177153\n"
     ]
    }
   ],
   "source": [
    "start = datetime.datetime.now()\n",
    "\n",
    "df_group_by_year = df_prep_f.groupby(['Year'])\n",
    "df_group_by_year['Precipitation_num'].aggregate(np.mean)\n",
    "Media_Anual  = df_group_by_year['Precipitation_num'].aggregate(np.mean)\n",
    "print(Media_Anual)\n",
    "\n",
    "stop = datetime.datetime.now()\n",
    "Tiempo_DF = stop - start\n",
    "print (\"Tiempo empleado en el cálculo con DF\"); print(Tiempo_DF)"
   ]
  },
  {
   "cell_type": "markdown",
   "metadata": {},
   "source": [
    "## Utilizando HDF5"
   ]
  },
  {
   "cell_type": "code",
   "execution_count": 24,
   "metadata": {
    "collapsed": false
   },
   "outputs": [
    {
     "name": "stdout",
     "output_type": "stream",
     "text": [
      "Year\n",
      "2009     0.066003\n",
      "2014    30.783033\n",
      "Name: Precipitation_num, dtype: float64\n",
      "Tiempo empleado en el cálculo con HDF5\n",
      "0:00:00.386121\n"
     ]
    }
   ],
   "source": [
    "start = datetime.datetime.now()\n",
    "\n",
    "df_group_by_year = hdf['Tabla/hdf5_precipitacion'].groupby(['Year'])\n",
    "df_group_by_year['Precipitation_num'].aggregate(np.mean)\n",
    "print(df_group_by_year['Precipitation_num'].aggregate(np.mean))\n",
    "\n",
    "stop = datetime.datetime.now()\n",
    "Tiempo_HDF = stop - start\n",
    "print (\"Tiempo empleado en el cálculo con HDF5\"); print(Tiempo_HDF)"
   ]
  },
  {
   "cell_type": "markdown",
   "metadata": {},
   "source": [
    "# Cálculo del tamaño en disco"
   ]
  },
  {
   "cell_type": "code",
   "execution_count": 25,
   "metadata": {
    "collapsed": false
   },
   "outputs": [
    {
     "name": "stdout",
     "output_type": "stream",
     "text": [
      "Tamaño en memoria\n",
      "4847436\n",
      "Tamaño en disco\n",
      "45349528\n"
     ]
    }
   ],
   "source": [
    "print(\"Tamaño en memoria\"); print(df_prep_f.size)\n",
    "print(\"Tamaño en disco\"); print(hdf.root.Tabla.hdf5_precipitacion.table.size_on_disk)"
   ]
  },
  {
   "cell_type": "markdown",
   "metadata": {},
   "source": [
    "## Opcional: guardar el resumen en una tabla HDF5 y ver el tiempo que se tarda en recuperarlo"
   ]
  },
  {
   "cell_type": "code",
   "execution_count": 26,
   "metadata": {
    "collapsed": false
   },
   "outputs": [
    {
     "name": "stdout",
     "output_type": "stream",
     "text": [
      "Media Anual 2009\n",
      "(2009, 0.0660034185048455)\n",
      "Media Anual 2014\n",
      "(2014, 30.783032757442573)\n"
     ]
    }
   ],
   "source": [
    "# He utilizado la información contendida en http://pybonacci.org/2013/07/04/aprende-funcionalidad-basica-de-pytables-paso-a-paso-i/\n",
    "# Pytables está programado sobre el formato hdf5 con ayuda de Python y Numpy\n",
    "\n",
    "import tables as tb\n",
    "\n",
    "# Creación de un fichero hdf5 en modo append\n",
    "h5file = tb.open_file(\"hdf5_size\", mode=\"a\", Title=\"Por fin estoy acabando la práctica\")\n",
    "\n",
    "from tables import IsDescription,  Int64Col, Float64Col \n",
    "\n",
    "dt = np.dtype([('Year', int),('Prep', float)])\n",
    "rows = np.array([(2009, Media_Anual[0]), (2014, Media_Anual[1])], dtype=dt)\n",
    "\n",
    "# Creación de una tabla con la estructura creada con el constructor dt\n",
    "h5file.create_table(\"/\", \"prep\", dt)\n",
    "\n",
    "# Append row\n",
    "h5file.root.prep.append(rows)\n",
    "\n",
    "\n",
    "start = datetime.datetime.now()\n",
    "print (\"Media Anual 2009\")\n",
    "print h5file.root.prep[0]\n",
    "print (\"Media Anual 2014\")\n",
    "print h5file.root.prep[1]"
   ]
  },
  {
   "cell_type": "code",
   "execution_count": 27,
   "metadata": {
    "collapsed": false
   },
   "outputs": [
    {
     "name": "stdout",
     "output_type": "stream",
     "text": [
      "/ (RootGroup) ''\n",
      "/prep (Table(2,)) ''\n"
     ]
    }
   ],
   "source": [
    "for node in h5file:\n",
    "    print(node)"
   ]
  },
  {
   "cell_type": "code",
   "execution_count": 28,
   "metadata": {
    "collapsed": false
   },
   "outputs": [
    {
     "data": {
      "text/plain": [
       "<bound method File.close of File(filename=hdf5_size, title='', mode='a', root_uep='/', filters=Filters(complevel=0, shuffle=False, fletcher32=False, least_significant_digit=None))\n",
       "/ (RootGroup) ''\n",
       "/prep (Table(2,)) ''\n",
       "  description := {\n",
       "  \"Year\": Int64Col(shape=(), dflt=0, pos=0),\n",
       "  \"Prep\": Float64Col(shape=(), dflt=0.0, pos=1)}\n",
       "  byteorder := 'little'\n",
       "  chunkshape := (4096,)\n",
       ">"
      ]
     },
     "execution_count": 28,
     "metadata": {},
     "output_type": "execute_result"
    }
   ],
   "source": [
    "# Cierre del HDF5\n",
    "\n",
    "h5file.close"
   ]
  }
 ],
 "metadata": {
  "anaconda-cloud": {},
  "kernelspec": {
   "display_name": "Python [default]",
   "language": "python",
   "name": "python2"
  },
  "language_info": {
   "codemirror_mode": {
    "name": "ipython",
    "version": 2
   },
   "file_extension": ".py",
   "mimetype": "text/x-python",
   "name": "python",
   "nbconvert_exporter": "python",
   "pygments_lexer": "ipython2",
   "version": "2.7.12"
  }
 },
 "nbformat": 4,
 "nbformat_minor": 0
}
